{
  "nbformat": 4,
  "nbformat_minor": 0,
  "metadata": {
    "colab": {
      "provenance": []
    },
    "kernelspec": {
      "name": "python3",
      "display_name": "Python 3"
    },
    "language_info": {
      "name": "python"
    }
  },
  "cells": [
    {
      "cell_type": "code",
      "source": [
        "!pip install -q keras\n",
        "!pip install -q pandas\n",
        "!pip install -q numpy\n",
        "!pip install -q hyperopt\n",
        "!pip install -q hyperas\n",
        "!pip install -q keras_preprocessing"
      ],
      "metadata": {
        "id": "t1dC3H9LbyJN",
        "colab": {
          "base_uri": "https://localhost:8080/"
        },
        "outputId": "64e91629-6663-4d49-cde6-85e86a43a3d2"
      },
      "execution_count": null,
      "outputs": [
        {
          "output_type": "stream",
          "name": "stdout",
          "text": [
            "\u001b[2K     \u001b[90m━━━━━━━━━━━━━━━━━━━━━━━━━━━━━━━━━━━━━━━\u001b[0m \u001b[32m121.9/121.9 kB\u001b[0m \u001b[31m2.5 MB/s\u001b[0m eta \u001b[36m0:00:00\u001b[0m\n",
            "\u001b[2K     \u001b[90m━━━━━━━━━━━━━━━━━━━━━━━━━━━━━━━━━━━━━━━━\u001b[0m \u001b[32m84.9/84.9 kB\u001b[0m \u001b[31m5.0 MB/s\u001b[0m eta \u001b[36m0:00:00\u001b[0m\n",
            "\u001b[2K     \u001b[90m━━━━━━━━━━━━━━━━━━━━━━━━━━━━━━━━━━━━━━━━\u001b[0m \u001b[32m1.6/1.6 MB\u001b[0m \u001b[31m9.1 MB/s\u001b[0m eta \u001b[36m0:00:00\u001b[0m\n",
            "\u001b[2K     \u001b[90m━━━━━━━━━━━━━━━━━━━━━━━━━━━━━━━━━━━━━━━━\u001b[0m \u001b[32m42.6/42.6 kB\u001b[0m \u001b[31m1.4 MB/s\u001b[0m eta \u001b[36m0:00:00\u001b[0m\n",
            "\u001b[?25h"
          ]
        }
      ]
    },
    {
      "cell_type": "code",
      "source": [
        "from __future__ import print_function\n",
        "import keras\n",
        "from keras.preprocessing.text import Tokenizer\n",
        "from keras_preprocessing.sequence import pad_sequences\n",
        "from keras.models import load_model\n",
        "from keras.models import  Model\n",
        "from keras.layers import Dense, Input\n",
        "import numpy as np\n",
        "import pandas as pd"
      ],
      "metadata": {
        "id": "BF2lTVC4cH77"
      },
      "execution_count": null,
      "outputs": []
    },
    {
      "cell_type": "code",
      "source": [
        "import pandas as pd\n",
        "import json\n",
        "import numpy as np"
      ],
      "metadata": {
        "id": "IFkf_lt1iDOr"
      },
      "execution_count": null,
      "outputs": []
    },
    {
      "cell_type": "code",
      "execution_count": null,
      "metadata": {
        "colab": {
          "base_uri": "https://localhost:8080/"
        },
        "id": "28Ec5cSdeR5N",
        "outputId": "c5a69f35-0fab-4057-882d-f88de23c9d94"
      },
      "outputs": [
        {
          "output_type": "stream",
          "name": "stdout",
          "text": [
            "Mounted at /content/drive\n"
          ]
        }
      ],
      "source": [
        "from google.colab import drive\n",
        "drive.mount('/content/drive')"
      ]
    },
    {
      "cell_type": "code",
      "source": [
        "with open('drive/MyDrive/data.00.json') as user_file:\n",
        "  parsed_json = user_file.read()"
      ],
      "metadata": {
        "id": "lctOfA36fUyq"
      },
      "execution_count": null,
      "outputs": []
    },
    {
      "cell_type": "code",
      "source": [
        "parsed_json = parsed_json.replace('}\\n{', '},{')"
      ],
      "metadata": {
        "id": "zfp-RZSvgMg7"
      },
      "execution_count": null,
      "outputs": []
    },
    {
      "cell_type": "code",
      "source": [
        "parsed_json = '['+parsed_json+']'"
      ],
      "metadata": {
        "id": "IphO81NFZ6Xr"
      },
      "execution_count": null,
      "outputs": []
    },
    {
      "cell_type": "code",
      "source": [
        "parsed_json[0:650]"
      ],
      "metadata": {
        "colab": {
          "base_uri": "https://localhost:8080/",
          "height": 88
        },
        "id": "QO_gYeufYNT4",
        "outputId": "9303369e-138a-4cda-e455-13a4b0a0d370"
      },
      "execution_count": null,
      "outputs": [
        {
          "output_type": "execute_result",
          "data": {
            "text/plain": [
              "'[{\"app_name\":\"gendpoint\",\"exercise_segment\":\"global\",\"facility\":3,\"fromhost_ip\":\"10.7.100.7\",\"hostname\":\"global-app\",\"message\":\" time=\\\\\"2019-03-19T11:00:00+01:00\\\\\" level=info msg=\\\\\"10.3.2.27 - global-app [19/Mar/2019:11:00:00 +0100] \\\\\\\\\\\\\"GET /api/v1/units/status\\\\\\\\\\\\\" 200 1452 \\\\\\\\\\\\\"\\\\\\\\\\\\\" \\\\\\\\\\\\\"Go-http-client/1.1\\\\\\\\\\\\\" (8ms)\\\\\" clientIP=10.3.2.27 dataLength=1452 hostname=global-app latency=8 method=GET path=/api/v1/units/status referer= statusCode=200 userAgent=Go-http-client/1.1\",\"procid\":25433,\"programname\":\"gendpoint\",\"severity\":6,\"timegenerated\":\"2019-03-19T11:00:00.000731+01:00\",\"timereported\":\"2019-03-19T11:00:00+01:00\",\"timestamp\":1552989600000},'"
            ],
            "application/vnd.google.colaboratory.intrinsic+json": {
              "type": "string"
            }
          },
          "metadata": {},
          "execution_count": 8
        }
      ]
    },
    {
      "cell_type": "code",
      "source": [
        "df = pd.DataFrame(json.loads(parsed_json))"
      ],
      "metadata": {
        "id": "fb8Yz8V-h-Y2"
      },
      "execution_count": null,
      "outputs": []
    },
    {
      "cell_type": "code",
      "source": [
        "del parsed_json"
      ],
      "metadata": {
        "id": "ytXCy_o-aD2V"
      },
      "execution_count": null,
      "outputs": []
    },
    {
      "cell_type": "code",
      "source": [
        "df"
      ],
      "metadata": {
        "colab": {
          "base_uri": "https://localhost:8080/",
          "height": 710
        },
        "id": "GDKlZLo4aGQF",
        "outputId": "8545ddd2-8bcd-4667-df2e-1b2490cc4454"
      },
      "execution_count": null,
      "outputs": [
        {
          "output_type": "execute_result",
          "data": {
            "text/plain": [
              "          app_name exercise_segment  facility fromhost_ip    hostname  \\\n",
              "0        gendpoint           global         3  10.7.100.7  global-app   \n",
              "1        gendpoint           global         3  10.7.100.7  global-app   \n",
              "2            named           global         3  10.7.100.3          ns   \n",
              "3        gendpoint           global         3  10.7.100.7  global-app   \n",
              "4        gendpoint           global         3  10.7.100.7  global-app   \n",
              "...            ...              ...       ...         ...         ...   \n",
              "1058445  gendpoint           global         3  10.7.100.7  global-app   \n",
              "1058446  gendpoint           global         3  10.7.100.7  global-app   \n",
              "1058447  gendpoint           global         3  10.7.100.7  global-app   \n",
              "1058448  gendpoint           global         3  10.7.100.7  global-app   \n",
              "1058449  gendpoint           global         3  10.7.100.7  global-app   \n",
              "\n",
              "                                                   message   procid  \\\n",
              "0         time=\"2019-03-19T11:00:00+01:00\" level=info m...  25433.0   \n",
              "1         [GIN] 2019/03/19 - 11:00:00 | 200 #033[0m|   ...  25433.0   \n",
              "2         client 4.122.55.5#58236 (12.66.66.9.in-addr.a...   4630.0   \n",
              "3         time=\"2019-03-19T11:00:00+01:00\" level=info m...  25400.0   \n",
              "4         [GIN] 2019/03/19 - 11:00:00 | 200 #033[0m|   ...  25400.0   \n",
              "...                                                    ...      ...   \n",
              "1058445   [GIN] 2019/03/19 - 14:03:59 | 200 #033[0m|   ...  25534.0   \n",
              "1058446   time=\"2019-03-19T14:03:59+01:00\" level=info m...  25498.0   \n",
              "1058447   [GIN] 2019/03/19 - 14:03:59 | 200 #033[0m|   ...  25498.0   \n",
              "1058448   time=\"2019-03-19T14:03:59+01:00\" level=info m...  25703.0   \n",
              "1058449   [GIN] 2019/03/19 - 14:03:59 | 200 #033[0m|   ...  25703.0   \n",
              "\n",
              "        programname  severity                     timegenerated  \\\n",
              "0         gendpoint         6  2019-03-19T11:00:00.000731+01:00   \n",
              "1         gendpoint         6  2019-03-19T11:00:00.000988+01:00   \n",
              "2             named         6  2019-03-19T11:00:00.015144+01:00   \n",
              "3         gendpoint         6  2019-03-19T11:00:00.034285+01:00   \n",
              "4         gendpoint         6  2019-03-19T11:00:00.034570+01:00   \n",
              "...             ...       ...                               ...   \n",
              "1058445   gendpoint         6  2019-03-19T14:03:59.322534+01:00   \n",
              "1058446   gendpoint         6  2019-03-19T14:03:59.330384+01:00   \n",
              "1058447   gendpoint         6  2019-03-19T14:03:59.330629+01:00   \n",
              "1058448   gendpoint         6  2019-03-19T14:03:59.336322+01:00   \n",
              "1058449   gendpoint         6  2019-03-19T14:03:59.337238+01:00   \n",
              "\n",
              "                      timereported      timestamp  \n",
              "0        2019-03-19T11:00:00+01:00  1552989600000  \n",
              "1        2019-03-19T11:00:00+01:00  1552989600000  \n",
              "2        2019-03-19T11:00:00+01:00  1552989600015  \n",
              "3        2019-03-19T11:00:00+01:00  1552989600034  \n",
              "4        2019-03-19T11:00:00+01:00  1552989600034  \n",
              "...                            ...            ...  \n",
              "1058445  2019-03-19T14:03:59+01:00  1553000639322  \n",
              "1058446  2019-03-19T14:03:59+01:00  1553000639330  \n",
              "1058447  2019-03-19T14:03:59+01:00  1553000639330  \n",
              "1058448  2019-03-19T14:03:59+01:00  1553000639336  \n",
              "1058449  2019-03-19T14:03:59+01:00  1553000639337  \n",
              "\n",
              "[1058450 rows x 12 columns]"
            ],
            "text/html": [
              "\n",
              "\n",
              "  <div id=\"df-53434669-40e2-4ccf-b401-b41f34b426ab\">\n",
              "    <div class=\"colab-df-container\">\n",
              "      <div>\n",
              "<style scoped>\n",
              "    .dataframe tbody tr th:only-of-type {\n",
              "        vertical-align: middle;\n",
              "    }\n",
              "\n",
              "    .dataframe tbody tr th {\n",
              "        vertical-align: top;\n",
              "    }\n",
              "\n",
              "    .dataframe thead th {\n",
              "        text-align: right;\n",
              "    }\n",
              "</style>\n",
              "<table border=\"1\" class=\"dataframe\">\n",
              "  <thead>\n",
              "    <tr style=\"text-align: right;\">\n",
              "      <th></th>\n",
              "      <th>app_name</th>\n",
              "      <th>exercise_segment</th>\n",
              "      <th>facility</th>\n",
              "      <th>fromhost_ip</th>\n",
              "      <th>hostname</th>\n",
              "      <th>message</th>\n",
              "      <th>procid</th>\n",
              "      <th>programname</th>\n",
              "      <th>severity</th>\n",
              "      <th>timegenerated</th>\n",
              "      <th>timereported</th>\n",
              "      <th>timestamp</th>\n",
              "    </tr>\n",
              "  </thead>\n",
              "  <tbody>\n",
              "    <tr>\n",
              "      <th>0</th>\n",
              "      <td>gendpoint</td>\n",
              "      <td>global</td>\n",
              "      <td>3</td>\n",
              "      <td>10.7.100.7</td>\n",
              "      <td>global-app</td>\n",
              "      <td>time=\"2019-03-19T11:00:00+01:00\" level=info m...</td>\n",
              "      <td>25433.0</td>\n",
              "      <td>gendpoint</td>\n",
              "      <td>6</td>\n",
              "      <td>2019-03-19T11:00:00.000731+01:00</td>\n",
              "      <td>2019-03-19T11:00:00+01:00</td>\n",
              "      <td>1552989600000</td>\n",
              "    </tr>\n",
              "    <tr>\n",
              "      <th>1</th>\n",
              "      <td>gendpoint</td>\n",
              "      <td>global</td>\n",
              "      <td>3</td>\n",
              "      <td>10.7.100.7</td>\n",
              "      <td>global-app</td>\n",
              "      <td>[GIN] 2019/03/19 - 11:00:00 | 200 #033[0m|   ...</td>\n",
              "      <td>25433.0</td>\n",
              "      <td>gendpoint</td>\n",
              "      <td>6</td>\n",
              "      <td>2019-03-19T11:00:00.000988+01:00</td>\n",
              "      <td>2019-03-19T11:00:00+01:00</td>\n",
              "      <td>1552989600000</td>\n",
              "    </tr>\n",
              "    <tr>\n",
              "      <th>2</th>\n",
              "      <td>named</td>\n",
              "      <td>global</td>\n",
              "      <td>3</td>\n",
              "      <td>10.7.100.3</td>\n",
              "      <td>ns</td>\n",
              "      <td>client 4.122.55.5#58236 (12.66.66.9.in-addr.a...</td>\n",
              "      <td>4630.0</td>\n",
              "      <td>named</td>\n",
              "      <td>6</td>\n",
              "      <td>2019-03-19T11:00:00.015144+01:00</td>\n",
              "      <td>2019-03-19T11:00:00+01:00</td>\n",
              "      <td>1552989600015</td>\n",
              "    </tr>\n",
              "    <tr>\n",
              "      <th>3</th>\n",
              "      <td>gendpoint</td>\n",
              "      <td>global</td>\n",
              "      <td>3</td>\n",
              "      <td>10.7.100.7</td>\n",
              "      <td>global-app</td>\n",
              "      <td>time=\"2019-03-19T11:00:00+01:00\" level=info m...</td>\n",
              "      <td>25400.0</td>\n",
              "      <td>gendpoint</td>\n",
              "      <td>6</td>\n",
              "      <td>2019-03-19T11:00:00.034285+01:00</td>\n",
              "      <td>2019-03-19T11:00:00+01:00</td>\n",
              "      <td>1552989600034</td>\n",
              "    </tr>\n",
              "    <tr>\n",
              "      <th>4</th>\n",
              "      <td>gendpoint</td>\n",
              "      <td>global</td>\n",
              "      <td>3</td>\n",
              "      <td>10.7.100.7</td>\n",
              "      <td>global-app</td>\n",
              "      <td>[GIN] 2019/03/19 - 11:00:00 | 200 #033[0m|   ...</td>\n",
              "      <td>25400.0</td>\n",
              "      <td>gendpoint</td>\n",
              "      <td>6</td>\n",
              "      <td>2019-03-19T11:00:00.034570+01:00</td>\n",
              "      <td>2019-03-19T11:00:00+01:00</td>\n",
              "      <td>1552989600034</td>\n",
              "    </tr>\n",
              "    <tr>\n",
              "      <th>...</th>\n",
              "      <td>...</td>\n",
              "      <td>...</td>\n",
              "      <td>...</td>\n",
              "      <td>...</td>\n",
              "      <td>...</td>\n",
              "      <td>...</td>\n",
              "      <td>...</td>\n",
              "      <td>...</td>\n",
              "      <td>...</td>\n",
              "      <td>...</td>\n",
              "      <td>...</td>\n",
              "      <td>...</td>\n",
              "    </tr>\n",
              "    <tr>\n",
              "      <th>1058445</th>\n",
              "      <td>gendpoint</td>\n",
              "      <td>global</td>\n",
              "      <td>3</td>\n",
              "      <td>10.7.100.7</td>\n",
              "      <td>global-app</td>\n",
              "      <td>[GIN] 2019/03/19 - 14:03:59 | 200 #033[0m|   ...</td>\n",
              "      <td>25534.0</td>\n",
              "      <td>gendpoint</td>\n",
              "      <td>6</td>\n",
              "      <td>2019-03-19T14:03:59.322534+01:00</td>\n",
              "      <td>2019-03-19T14:03:59+01:00</td>\n",
              "      <td>1553000639322</td>\n",
              "    </tr>\n",
              "    <tr>\n",
              "      <th>1058446</th>\n",
              "      <td>gendpoint</td>\n",
              "      <td>global</td>\n",
              "      <td>3</td>\n",
              "      <td>10.7.100.7</td>\n",
              "      <td>global-app</td>\n",
              "      <td>time=\"2019-03-19T14:03:59+01:00\" level=info m...</td>\n",
              "      <td>25498.0</td>\n",
              "      <td>gendpoint</td>\n",
              "      <td>6</td>\n",
              "      <td>2019-03-19T14:03:59.330384+01:00</td>\n",
              "      <td>2019-03-19T14:03:59+01:00</td>\n",
              "      <td>1553000639330</td>\n",
              "    </tr>\n",
              "    <tr>\n",
              "      <th>1058447</th>\n",
              "      <td>gendpoint</td>\n",
              "      <td>global</td>\n",
              "      <td>3</td>\n",
              "      <td>10.7.100.7</td>\n",
              "      <td>global-app</td>\n",
              "      <td>[GIN] 2019/03/19 - 14:03:59 | 200 #033[0m|   ...</td>\n",
              "      <td>25498.0</td>\n",
              "      <td>gendpoint</td>\n",
              "      <td>6</td>\n",
              "      <td>2019-03-19T14:03:59.330629+01:00</td>\n",
              "      <td>2019-03-19T14:03:59+01:00</td>\n",
              "      <td>1553000639330</td>\n",
              "    </tr>\n",
              "    <tr>\n",
              "      <th>1058448</th>\n",
              "      <td>gendpoint</td>\n",
              "      <td>global</td>\n",
              "      <td>3</td>\n",
              "      <td>10.7.100.7</td>\n",
              "      <td>global-app</td>\n",
              "      <td>time=\"2019-03-19T14:03:59+01:00\" level=info m...</td>\n",
              "      <td>25703.0</td>\n",
              "      <td>gendpoint</td>\n",
              "      <td>6</td>\n",
              "      <td>2019-03-19T14:03:59.336322+01:00</td>\n",
              "      <td>2019-03-19T14:03:59+01:00</td>\n",
              "      <td>1553000639336</td>\n",
              "    </tr>\n",
              "    <tr>\n",
              "      <th>1058449</th>\n",
              "      <td>gendpoint</td>\n",
              "      <td>global</td>\n",
              "      <td>3</td>\n",
              "      <td>10.7.100.7</td>\n",
              "      <td>global-app</td>\n",
              "      <td>[GIN] 2019/03/19 - 14:03:59 | 200 #033[0m|   ...</td>\n",
              "      <td>25703.0</td>\n",
              "      <td>gendpoint</td>\n",
              "      <td>6</td>\n",
              "      <td>2019-03-19T14:03:59.337238+01:00</td>\n",
              "      <td>2019-03-19T14:03:59+01:00</td>\n",
              "      <td>1553000639337</td>\n",
              "    </tr>\n",
              "  </tbody>\n",
              "</table>\n",
              "<p>1058450 rows × 12 columns</p>\n",
              "</div>\n",
              "      <button class=\"colab-df-convert\" onclick=\"convertToInteractive('df-53434669-40e2-4ccf-b401-b41f34b426ab')\"\n",
              "              title=\"Convert this dataframe to an interactive table.\"\n",
              "              style=\"display:none;\">\n",
              "\n",
              "  <svg xmlns=\"http://www.w3.org/2000/svg\" height=\"24px\"viewBox=\"0 0 24 24\"\n",
              "       width=\"24px\">\n",
              "    <path d=\"M0 0h24v24H0V0z\" fill=\"none\"/>\n",
              "    <path d=\"M18.56 5.44l.94 2.06.94-2.06 2.06-.94-2.06-.94-.94-2.06-.94 2.06-2.06.94zm-11 1L8.5 8.5l.94-2.06 2.06-.94-2.06-.94L8.5 2.5l-.94 2.06-2.06.94zm10 10l.94 2.06.94-2.06 2.06-.94-2.06-.94-.94-2.06-.94 2.06-2.06.94z\"/><path d=\"M17.41 7.96l-1.37-1.37c-.4-.4-.92-.59-1.43-.59-.52 0-1.04.2-1.43.59L10.3 9.45l-7.72 7.72c-.78.78-.78 2.05 0 2.83L4 21.41c.39.39.9.59 1.41.59.51 0 1.02-.2 1.41-.59l7.78-7.78 2.81-2.81c.8-.78.8-2.07 0-2.86zM5.41 20L4 18.59l7.72-7.72 1.47 1.35L5.41 20z\"/>\n",
              "  </svg>\n",
              "      </button>\n",
              "\n",
              "\n",
              "\n",
              "    <div id=\"df-20c67139-aeea-40af-acf1-7827bda1a41b\">\n",
              "      <button class=\"colab-df-quickchart\" onclick=\"quickchart('df-20c67139-aeea-40af-acf1-7827bda1a41b')\"\n",
              "              title=\"Suggest charts.\"\n",
              "              style=\"display:none;\">\n",
              "\n",
              "<svg xmlns=\"http://www.w3.org/2000/svg\" height=\"24px\"viewBox=\"0 0 24 24\"\n",
              "     width=\"24px\">\n",
              "    <g>\n",
              "        <path d=\"M19 3H5c-1.1 0-2 .9-2 2v14c0 1.1.9 2 2 2h14c1.1 0 2-.9 2-2V5c0-1.1-.9-2-2-2zM9 17H7v-7h2v7zm4 0h-2V7h2v10zm4 0h-2v-4h2v4z\"/>\n",
              "    </g>\n",
              "</svg>\n",
              "      </button>\n",
              "    </div>\n",
              "\n",
              "<style>\n",
              "  .colab-df-quickchart {\n",
              "    background-color: #E8F0FE;\n",
              "    border: none;\n",
              "    border-radius: 50%;\n",
              "    cursor: pointer;\n",
              "    display: none;\n",
              "    fill: #1967D2;\n",
              "    height: 32px;\n",
              "    padding: 0 0 0 0;\n",
              "    width: 32px;\n",
              "  }\n",
              "\n",
              "  .colab-df-quickchart:hover {\n",
              "    background-color: #E2EBFA;\n",
              "    box-shadow: 0px 1px 2px rgba(60, 64, 67, 0.3), 0px 1px 3px 1px rgba(60, 64, 67, 0.15);\n",
              "    fill: #174EA6;\n",
              "  }\n",
              "\n",
              "  [theme=dark] .colab-df-quickchart {\n",
              "    background-color: #3B4455;\n",
              "    fill: #D2E3FC;\n",
              "  }\n",
              "\n",
              "  [theme=dark] .colab-df-quickchart:hover {\n",
              "    background-color: #434B5C;\n",
              "    box-shadow: 0px 1px 3px 1px rgba(0, 0, 0, 0.15);\n",
              "    filter: drop-shadow(0px 1px 2px rgba(0, 0, 0, 0.3));\n",
              "    fill: #FFFFFF;\n",
              "  }\n",
              "</style>\n",
              "\n",
              "    <script>\n",
              "      async function quickchart(key) {\n",
              "        const containerElement = document.querySelector('#' + key);\n",
              "        const charts = await google.colab.kernel.invokeFunction(\n",
              "            'suggestCharts', [key], {});\n",
              "      }\n",
              "    </script>\n",
              "\n",
              "      <script>\n",
              "\n",
              "function displayQuickchartButton(domScope) {\n",
              "  let quickchartButtonEl =\n",
              "    domScope.querySelector('#df-20c67139-aeea-40af-acf1-7827bda1a41b button.colab-df-quickchart');\n",
              "  quickchartButtonEl.style.display =\n",
              "    google.colab.kernel.accessAllowed ? 'block' : 'none';\n",
              "}\n",
              "\n",
              "        displayQuickchartButton(document);\n",
              "      </script>\n",
              "      <style>\n",
              "    .colab-df-container {\n",
              "      display:flex;\n",
              "      flex-wrap:wrap;\n",
              "      gap: 12px;\n",
              "    }\n",
              "\n",
              "    .colab-df-convert {\n",
              "      background-color: #E8F0FE;\n",
              "      border: none;\n",
              "      border-radius: 50%;\n",
              "      cursor: pointer;\n",
              "      display: none;\n",
              "      fill: #1967D2;\n",
              "      height: 32px;\n",
              "      padding: 0 0 0 0;\n",
              "      width: 32px;\n",
              "    }\n",
              "\n",
              "    .colab-df-convert:hover {\n",
              "      background-color: #E2EBFA;\n",
              "      box-shadow: 0px 1px 2px rgba(60, 64, 67, 0.3), 0px 1px 3px 1px rgba(60, 64, 67, 0.15);\n",
              "      fill: #174EA6;\n",
              "    }\n",
              "\n",
              "    [theme=dark] .colab-df-convert {\n",
              "      background-color: #3B4455;\n",
              "      fill: #D2E3FC;\n",
              "    }\n",
              "\n",
              "    [theme=dark] .colab-df-convert:hover {\n",
              "      background-color: #434B5C;\n",
              "      box-shadow: 0px 1px 3px 1px rgba(0, 0, 0, 0.15);\n",
              "      filter: drop-shadow(0px 1px 2px rgba(0, 0, 0, 0.3));\n",
              "      fill: #FFFFFF;\n",
              "    }\n",
              "  </style>\n",
              "\n",
              "      <script>\n",
              "        const buttonEl =\n",
              "          document.querySelector('#df-53434669-40e2-4ccf-b401-b41f34b426ab button.colab-df-convert');\n",
              "        buttonEl.style.display =\n",
              "          google.colab.kernel.accessAllowed ? 'block' : 'none';\n",
              "\n",
              "        async function convertToInteractive(key) {\n",
              "          const element = document.querySelector('#df-53434669-40e2-4ccf-b401-b41f34b426ab');\n",
              "          const dataTable =\n",
              "            await google.colab.kernel.invokeFunction('convertToInteractive',\n",
              "                                                     [key], {});\n",
              "          if (!dataTable) return;\n",
              "\n",
              "          const docLinkHtml = 'Like what you see? Visit the ' +\n",
              "            '<a target=\"_blank\" href=https://colab.research.google.com/notebooks/data_table.ipynb>data table notebook</a>'\n",
              "            + ' to learn more about interactive tables.';\n",
              "          element.innerHTML = '';\n",
              "          dataTable['output_type'] = 'display_data';\n",
              "          await google.colab.output.renderOutput(dataTable, element);\n",
              "          const docLink = document.createElement('div');\n",
              "          docLink.innerHTML = docLinkHtml;\n",
              "          element.appendChild(docLink);\n",
              "        }\n",
              "      </script>\n",
              "    </div>\n",
              "  </div>\n"
            ]
          },
          "metadata": {},
          "execution_count": 11
        }
      ]
    },
    {
      "cell_type": "code",
      "source": [
        "samples = []\n",
        "for row in df.iterrows():\n",
        "    index, data = row\n",
        "    samples.append(data.tolist())"
      ],
      "metadata": {
        "id": "ybP7o2X0bCeD"
      },
      "execution_count": null,
      "outputs": []
    },
    {
      "cell_type": "code",
      "source": [
        "len(samples[0])"
      ],
      "metadata": {
        "colab": {
          "base_uri": "https://localhost:8080/"
        },
        "id": "e5mYollLCKUb",
        "outputId": "27ce8b76-5683-45e1-a4ca-5d4fa7dc78e7"
      },
      "execution_count": null,
      "outputs": [
        {
          "output_type": "execute_result",
          "data": {
            "text/plain": [
              "12"
            ]
          },
          "metadata": {},
          "execution_count": 23
        }
      ]
    },
    {
      "cell_type": "code",
      "source": [
        "max_words = 200000\n",
        "maxlen = 12"
      ],
      "metadata": {
        "id": "hVlIqwr5bbtO"
      },
      "execution_count": null,
      "outputs": []
    },
    {
      "cell_type": "code",
      "source": [
        "tokenizer = Tokenizer(num_words=max_words, lower=False)\n",
        "tokenizer.fit_on_texts(samples)\n",
        "sequences = tokenizer.texts_to_sequences(samples)\n",
        "word_index = tokenizer.word_index\n",
        "print('Found %s unique tokens.' % len(word_index))\n",
        "data = pad_sequences(sequences, maxlen=maxlen)"
      ],
      "metadata": {
        "colab": {
          "base_uri": "https://localhost:8080/"
        },
        "id": "GswCR52zbgH8",
        "outputId": "cd2e9563-6bf1-46cc-8721-46687e7abfad"
      },
      "execution_count": null,
      "outputs": [
        {
          "output_type": "stream",
          "name": "stdout",
          "text": [
            "Found 2718387 unique tokens.\n"
          ]
        }
      ]
    },
    {
      "cell_type": "code",
      "source": [
        "test_df = df[:5]"
      ],
      "metadata": {
        "id": "uGkMA4D3DT3A"
      },
      "execution_count": null,
      "outputs": []
    },
    {
      "cell_type": "code",
      "source": [
        "test_df.drop(df.columns[[0,1, 2,3,4,5,6]], axis=1, inplace=True)"
      ],
      "metadata": {
        "colab": {
          "base_uri": "https://localhost:8080/"
        },
        "id": "r10hPKftDayn",
        "outputId": "fdc645d7-3ad7-4a9e-c4ff-e1ff3743502e"
      },
      "execution_count": null,
      "outputs": [
        {
          "output_type": "stream",
          "name": "stderr",
          "text": [
            "<ipython-input-31-36f33a1a9394>:1: SettingWithCopyWarning: \n",
            "A value is trying to be set on a copy of a slice from a DataFrame\n",
            "\n",
            "See the caveats in the documentation: https://pandas.pydata.org/pandas-docs/stable/user_guide/indexing.html#returning-a-view-versus-a-copy\n",
            "  test_df.drop(df.columns[[0,1, 2,3,4,5,6]], axis=1, inplace=True)\n"
          ]
        }
      ]
    },
    {
      "cell_type": "code",
      "source": [
        "test_df"
      ],
      "metadata": {
        "colab": {
          "base_uri": "https://localhost:8080/",
          "height": 206
        },
        "id": "OvZNUffyD3ux",
        "outputId": "f05efc4d-13fd-4b92-ed02-d07c07ac1eec"
      },
      "execution_count": null,
      "outputs": [
        {
          "output_type": "execute_result",
          "data": {
            "text/plain": [
              "  programname  severity                     timegenerated  \\\n",
              "0   gendpoint         6  2019-03-19T11:00:00.000731+01:00   \n",
              "1   gendpoint         6  2019-03-19T11:00:00.000988+01:00   \n",
              "2       named         6  2019-03-19T11:00:00.015144+01:00   \n",
              "3   gendpoint         6  2019-03-19T11:00:00.034285+01:00   \n",
              "4   gendpoint         6  2019-03-19T11:00:00.034570+01:00   \n",
              "\n",
              "                timereported      timestamp  \n",
              "0  2019-03-19T11:00:00+01:00  1552989600000  \n",
              "1  2019-03-19T11:00:00+01:00  1552989600000  \n",
              "2  2019-03-19T11:00:00+01:00  1552989600015  \n",
              "3  2019-03-19T11:00:00+01:00  1552989600034  \n",
              "4  2019-03-19T11:00:00+01:00  1552989600034  "
            ],
            "text/html": [
              "\n",
              "\n",
              "  <div id=\"df-b737757a-b97c-44e2-89a1-cbaa051cab39\">\n",
              "    <div class=\"colab-df-container\">\n",
              "      <div>\n",
              "<style scoped>\n",
              "    .dataframe tbody tr th:only-of-type {\n",
              "        vertical-align: middle;\n",
              "    }\n",
              "\n",
              "    .dataframe tbody tr th {\n",
              "        vertical-align: top;\n",
              "    }\n",
              "\n",
              "    .dataframe thead th {\n",
              "        text-align: right;\n",
              "    }\n",
              "</style>\n",
              "<table border=\"1\" class=\"dataframe\">\n",
              "  <thead>\n",
              "    <tr style=\"text-align: right;\">\n",
              "      <th></th>\n",
              "      <th>programname</th>\n",
              "      <th>severity</th>\n",
              "      <th>timegenerated</th>\n",
              "      <th>timereported</th>\n",
              "      <th>timestamp</th>\n",
              "    </tr>\n",
              "  </thead>\n",
              "  <tbody>\n",
              "    <tr>\n",
              "      <th>0</th>\n",
              "      <td>gendpoint</td>\n",
              "      <td>6</td>\n",
              "      <td>2019-03-19T11:00:00.000731+01:00</td>\n",
              "      <td>2019-03-19T11:00:00+01:00</td>\n",
              "      <td>1552989600000</td>\n",
              "    </tr>\n",
              "    <tr>\n",
              "      <th>1</th>\n",
              "      <td>gendpoint</td>\n",
              "      <td>6</td>\n",
              "      <td>2019-03-19T11:00:00.000988+01:00</td>\n",
              "      <td>2019-03-19T11:00:00+01:00</td>\n",
              "      <td>1552989600000</td>\n",
              "    </tr>\n",
              "    <tr>\n",
              "      <th>2</th>\n",
              "      <td>named</td>\n",
              "      <td>6</td>\n",
              "      <td>2019-03-19T11:00:00.015144+01:00</td>\n",
              "      <td>2019-03-19T11:00:00+01:00</td>\n",
              "      <td>1552989600015</td>\n",
              "    </tr>\n",
              "    <tr>\n",
              "      <th>3</th>\n",
              "      <td>gendpoint</td>\n",
              "      <td>6</td>\n",
              "      <td>2019-03-19T11:00:00.034285+01:00</td>\n",
              "      <td>2019-03-19T11:00:00+01:00</td>\n",
              "      <td>1552989600034</td>\n",
              "    </tr>\n",
              "    <tr>\n",
              "      <th>4</th>\n",
              "      <td>gendpoint</td>\n",
              "      <td>6</td>\n",
              "      <td>2019-03-19T11:00:00.034570+01:00</td>\n",
              "      <td>2019-03-19T11:00:00+01:00</td>\n",
              "      <td>1552989600034</td>\n",
              "    </tr>\n",
              "  </tbody>\n",
              "</table>\n",
              "</div>\n",
              "      <button class=\"colab-df-convert\" onclick=\"convertToInteractive('df-b737757a-b97c-44e2-89a1-cbaa051cab39')\"\n",
              "              title=\"Convert this dataframe to an interactive table.\"\n",
              "              style=\"display:none;\">\n",
              "\n",
              "  <svg xmlns=\"http://www.w3.org/2000/svg\" height=\"24px\"viewBox=\"0 0 24 24\"\n",
              "       width=\"24px\">\n",
              "    <path d=\"M0 0h24v24H0V0z\" fill=\"none\"/>\n",
              "    <path d=\"M18.56 5.44l.94 2.06.94-2.06 2.06-.94-2.06-.94-.94-2.06-.94 2.06-2.06.94zm-11 1L8.5 8.5l.94-2.06 2.06-.94-2.06-.94L8.5 2.5l-.94 2.06-2.06.94zm10 10l.94 2.06.94-2.06 2.06-.94-2.06-.94-.94-2.06-.94 2.06-2.06.94z\"/><path d=\"M17.41 7.96l-1.37-1.37c-.4-.4-.92-.59-1.43-.59-.52 0-1.04.2-1.43.59L10.3 9.45l-7.72 7.72c-.78.78-.78 2.05 0 2.83L4 21.41c.39.39.9.59 1.41.59.51 0 1.02-.2 1.41-.59l7.78-7.78 2.81-2.81c.8-.78.8-2.07 0-2.86zM5.41 20L4 18.59l7.72-7.72 1.47 1.35L5.41 20z\"/>\n",
              "  </svg>\n",
              "      </button>\n",
              "\n",
              "\n",
              "\n",
              "    <div id=\"df-12c0c98f-8191-46d2-b49a-5d893b6b9744\">\n",
              "      <button class=\"colab-df-quickchart\" onclick=\"quickchart('df-12c0c98f-8191-46d2-b49a-5d893b6b9744')\"\n",
              "              title=\"Suggest charts.\"\n",
              "              style=\"display:none;\">\n",
              "\n",
              "<svg xmlns=\"http://www.w3.org/2000/svg\" height=\"24px\"viewBox=\"0 0 24 24\"\n",
              "     width=\"24px\">\n",
              "    <g>\n",
              "        <path d=\"M19 3H5c-1.1 0-2 .9-2 2v14c0 1.1.9 2 2 2h14c1.1 0 2-.9 2-2V5c0-1.1-.9-2-2-2zM9 17H7v-7h2v7zm4 0h-2V7h2v10zm4 0h-2v-4h2v4z\"/>\n",
              "    </g>\n",
              "</svg>\n",
              "      </button>\n",
              "    </div>\n",
              "\n",
              "<style>\n",
              "  .colab-df-quickchart {\n",
              "    background-color: #E8F0FE;\n",
              "    border: none;\n",
              "    border-radius: 50%;\n",
              "    cursor: pointer;\n",
              "    display: none;\n",
              "    fill: #1967D2;\n",
              "    height: 32px;\n",
              "    padding: 0 0 0 0;\n",
              "    width: 32px;\n",
              "  }\n",
              "\n",
              "  .colab-df-quickchart:hover {\n",
              "    background-color: #E2EBFA;\n",
              "    box-shadow: 0px 1px 2px rgba(60, 64, 67, 0.3), 0px 1px 3px 1px rgba(60, 64, 67, 0.15);\n",
              "    fill: #174EA6;\n",
              "  }\n",
              "\n",
              "  [theme=dark] .colab-df-quickchart {\n",
              "    background-color: #3B4455;\n",
              "    fill: #D2E3FC;\n",
              "  }\n",
              "\n",
              "  [theme=dark] .colab-df-quickchart:hover {\n",
              "    background-color: #434B5C;\n",
              "    box-shadow: 0px 1px 3px 1px rgba(0, 0, 0, 0.15);\n",
              "    filter: drop-shadow(0px 1px 2px rgba(0, 0, 0, 0.3));\n",
              "    fill: #FFFFFF;\n",
              "  }\n",
              "</style>\n",
              "\n",
              "    <script>\n",
              "      async function quickchart(key) {\n",
              "        const containerElement = document.querySelector('#' + key);\n",
              "        const charts = await google.colab.kernel.invokeFunction(\n",
              "            'suggestCharts', [key], {});\n",
              "      }\n",
              "    </script>\n",
              "\n",
              "      <script>\n",
              "\n",
              "function displayQuickchartButton(domScope) {\n",
              "  let quickchartButtonEl =\n",
              "    domScope.querySelector('#df-12c0c98f-8191-46d2-b49a-5d893b6b9744 button.colab-df-quickchart');\n",
              "  quickchartButtonEl.style.display =\n",
              "    google.colab.kernel.accessAllowed ? 'block' : 'none';\n",
              "}\n",
              "\n",
              "        displayQuickchartButton(document);\n",
              "      </script>\n",
              "      <style>\n",
              "    .colab-df-container {\n",
              "      display:flex;\n",
              "      flex-wrap:wrap;\n",
              "      gap: 12px;\n",
              "    }\n",
              "\n",
              "    .colab-df-convert {\n",
              "      background-color: #E8F0FE;\n",
              "      border: none;\n",
              "      border-radius: 50%;\n",
              "      cursor: pointer;\n",
              "      display: none;\n",
              "      fill: #1967D2;\n",
              "      height: 32px;\n",
              "      padding: 0 0 0 0;\n",
              "      width: 32px;\n",
              "    }\n",
              "\n",
              "    .colab-df-convert:hover {\n",
              "      background-color: #E2EBFA;\n",
              "      box-shadow: 0px 1px 2px rgba(60, 64, 67, 0.3), 0px 1px 3px 1px rgba(60, 64, 67, 0.15);\n",
              "      fill: #174EA6;\n",
              "    }\n",
              "\n",
              "    [theme=dark] .colab-df-convert {\n",
              "      background-color: #3B4455;\n",
              "      fill: #D2E3FC;\n",
              "    }\n",
              "\n",
              "    [theme=dark] .colab-df-convert:hover {\n",
              "      background-color: #434B5C;\n",
              "      box-shadow: 0px 1px 3px 1px rgba(0, 0, 0, 0.15);\n",
              "      filter: drop-shadow(0px 1px 2px rgba(0, 0, 0, 0.3));\n",
              "      fill: #FFFFFF;\n",
              "    }\n",
              "  </style>\n",
              "\n",
              "      <script>\n",
              "        const buttonEl =\n",
              "          document.querySelector('#df-b737757a-b97c-44e2-89a1-cbaa051cab39 button.colab-df-convert');\n",
              "        buttonEl.style.display =\n",
              "          google.colab.kernel.accessAllowed ? 'block' : 'none';\n",
              "\n",
              "        async function convertToInteractive(key) {\n",
              "          const element = document.querySelector('#df-b737757a-b97c-44e2-89a1-cbaa051cab39');\n",
              "          const dataTable =\n",
              "            await google.colab.kernel.invokeFunction('convertToInteractive',\n",
              "                                                     [key], {});\n",
              "          if (!dataTable) return;\n",
              "\n",
              "          const docLinkHtml = 'Like what you see? Visit the ' +\n",
              "            '<a target=\"_blank\" href=https://colab.research.google.com/notebooks/data_table.ipynb>data table notebook</a>'\n",
              "            + ' to learn more about interactive tables.';\n",
              "          element.innerHTML = '';\n",
              "          dataTable['output_type'] = 'display_data';\n",
              "          await google.colab.output.renderOutput(dataTable, element);\n",
              "          const docLink = document.createElement('div');\n",
              "          docLink.innerHTML = docLinkHtml;\n",
              "          element.appendChild(docLink);\n",
              "        }\n",
              "      </script>\n",
              "    </div>\n",
              "  </div>\n"
            ]
          },
          "metadata": {},
          "execution_count": 32
        }
      ]
    },
    {
      "cell_type": "code",
      "source": [
        "t = Tokenizer()\n",
        "t.fit_on_texts(test_df)\n",
        "print(t)"
      ],
      "metadata": {
        "colab": {
          "base_uri": "https://localhost:8080/"
        },
        "id": "1xGguM5iD9wR",
        "outputId": "7f9ba265-baec-42b6-c82d-795e6f235daf"
      },
      "execution_count": null,
      "outputs": [
        {
          "output_type": "stream",
          "name": "stdout",
          "text": [
            "<keras.preprocessing.text.Tokenizer object at 0x7b6dd347b970>\n"
          ]
        }
      ]
    },
    {
      "cell_type": "code",
      "source": [
        "s = t.texts_to_sequences(test_df)\n",
        "print(s)\n",
        "w = t.word_index\n",
        "print('Found %s unique tokens.' % len(word_index))\n",
        "d = pad_sequences(sequences, maxlen=maxlen)"
      ],
      "metadata": {
        "colab": {
          "base_uri": "https://localhost:8080/"
        },
        "id": "xDpxpN1CEs20",
        "outputId": "fa822874-130f-41f3-851b-823f7b7faffa"
      },
      "execution_count": null,
      "outputs": [
        {
          "output_type": "stream",
          "name": "stdout",
          "text": [
            "[[1], [2], [3], [4], [5]]\n",
            "Found 2718387 unique tokens.\n"
          ]
        }
      ]
    },
    {
      "cell_type": "code",
      "source": [
        "len(s)"
      ],
      "metadata": {
        "colab": {
          "base_uri": "https://localhost:8080/"
        },
        "id": "hEGrSu-LETBr",
        "outputId": "d13757f3-64c2-4949-d6d8-7ba0f910108a"
      },
      "execution_count": null,
      "outputs": [
        {
          "output_type": "execute_result",
          "data": {
            "text/plain": [
              "5"
            ]
          },
          "metadata": {},
          "execution_count": 39
        }
      ]
    },
    {
      "cell_type": "code",
      "source": [
        "len(sequences[0])"
      ],
      "metadata": {
        "colab": {
          "base_uri": "https://localhost:8080/"
        },
        "id": "mEawC30AAnzI",
        "outputId": "64b6d52a-8914-494f-900b-38b1db6b8760"
      },
      "execution_count": null,
      "outputs": [
        {
          "output_type": "execute_result",
          "data": {
            "text/plain": [
              "10"
            ]
          },
          "metadata": {},
          "execution_count": 26
        }
      ]
    },
    {
      "cell_type": "code",
      "source": [
        "from sklearn.preprocessing import MinMaxScaler"
      ],
      "metadata": {
        "id": "iOAwsXPmdwwE"
      },
      "execution_count": null,
      "outputs": []
    },
    {
      "cell_type": "code",
      "source": [
        "scaler = MinMaxScaler()\n",
        "scaler.fit(data)\n",
        "data = scaler.transform(data)"
      ],
      "metadata": {
        "id": "YzS_cVewd11W"
      },
      "execution_count": null,
      "outputs": []
    },
    {
      "cell_type": "code",
      "source": [
        "training_samples = int(len(samples) * 0.80)\n",
        "\n",
        "x = data[:training_samples]\n",
        "x_validation = data[training_samples:]\n",
        "\n",
        "callbacks_list = [\n",
        "    keras.callbacks.ModelCheckpoint(\n",
        "    filepath='log_model-testing.h5',\n",
        "    monitor='val_loss',\n",
        "    save_best_only=True\n",
        "    )\n",
        "]\n"
      ],
      "metadata": {
        "id": "xg6N2f6zc39Z"
      },
      "execution_count": null,
      "outputs": []
    },
    {
      "cell_type": "code",
      "source": [
        "input_dim = x.shape[1]\n",
        "input = Input(shape=(input_dim, ))\n",
        "encode = Dense(8, activation='relu')(input)\n",
        "encode = Dense(4, activation='relu')(encode)\n",
        "\n",
        "decode = Dense(8, activation='relu')(encode)\n",
        "decode = Dense(12, activation='sigmoid')(decode)\n",
        "\n",
        "autoencoder = Model(input, decode)\n",
        "\n",
        "autoencoder.summary()\n",
        "\n",
        "autoencoder.compile(optimizer='adam',\n",
        "            loss='mean_squared_error',\n",
        "            metrics=['accuracy'])"
      ],
      "metadata": {
        "colab": {
          "base_uri": "https://localhost:8080/"
        },
        "id": "lA0Wk41cdQzj",
        "outputId": "5fa13d2e-3699-4ed9-ee9e-2eb4d634d8ee"
      },
      "execution_count": null,
      "outputs": [
        {
          "output_type": "stream",
          "name": "stdout",
          "text": [
            "Model: \"model\"\n",
            "_________________________________________________________________\n",
            " Layer (type)                Output Shape              Param #   \n",
            "=================================================================\n",
            " input_1 (InputLayer)        [(None, 12)]              0         \n",
            "                                                                 \n",
            " dense (Dense)               (None, 8)                 104       \n",
            "                                                                 \n",
            " dense_1 (Dense)             (None, 4)                 36        \n",
            "                                                                 \n",
            " dense_2 (Dense)             (None, 8)                 40        \n",
            "                                                                 \n",
            " dense_3 (Dense)             (None, 12)                108       \n",
            "                                                                 \n",
            "=================================================================\n",
            "Total params: 288\n",
            "Trainable params: 288\n",
            "Non-trainable params: 0\n",
            "_________________________________________________________________\n"
          ]
        }
      ]
    },
    {
      "cell_type": "code",
      "source": [
        "history = autoencoder.fit(x, x,\n",
        "        epochs=50,\n",
        "        batch_size=32,\n",
        "        callbacks=callbacks_list,\n",
        "        validation_data=(x_validation, x_validation),\n",
        "        shuffle=True\n",
        "        )"
      ],
      "metadata": {
        "colab": {
          "base_uri": "https://localhost:8080/",
          "height": 692
        },
        "id": "j0AKjw-5dhRc",
        "outputId": "ed735d3a-15e0-4901-bebd-e7b97ef998ec"
      },
      "execution_count": null,
      "outputs": [
        {
          "output_type": "stream",
          "name": "stdout",
          "text": [
            "Epoch 1/50\n",
            "26462/26462 [==============================] - 109s 4ms/step - loss: 0.0021 - accuracy: 0.9190 - val_loss: 4.4600e-05 - val_accuracy: 0.9699\n",
            "Epoch 2/50\n",
            "26462/26462 [==============================] - 110s 4ms/step - loss: 1.2912e-04 - accuracy: 0.9451 - val_loss: 3.4081e-05 - val_accuracy: 0.9776\n",
            "Epoch 3/50\n",
            "26462/26462 [==============================] - 101s 4ms/step - loss: 9.9170e-05 - accuracy: 0.9482 - val_loss: 2.9046e-05 - val_accuracy: 0.9757\n",
            "Epoch 4/50\n",
            "26462/26462 [==============================] - 107s 4ms/step - loss: 7.4581e-05 - accuracy: 0.9495 - val_loss: 2.3518e-05 - val_accuracy: 0.9770\n",
            "Epoch 5/50\n",
            "26462/26462 [==============================] - 108s 4ms/step - loss: 6.1498e-05 - accuracy: 0.9454 - val_loss: 1.9763e-05 - val_accuracy: 0.9754\n",
            "Epoch 6/50\n",
            "26462/26462 [==============================] - 110s 4ms/step - loss: 5.3818e-05 - accuracy: 0.9437 - val_loss: 2.0745e-05 - val_accuracy: 0.9761\n",
            "Epoch 7/50\n",
            "26462/26462 [==============================] - 101s 4ms/step - loss: 4.8316e-05 - accuracy: 0.9435 - val_loss: 1.9722e-05 - val_accuracy: 0.9765\n",
            "Epoch 8/50\n",
            "26462/26462 [==============================] - 106s 4ms/step - loss: 4.4548e-05 - accuracy: 0.9435 - val_loss: 1.7686e-05 - val_accuracy: 0.9738\n",
            "Epoch 9/50\n",
            "  488/26462 [..............................] - ETA: 1:50 - loss: 4.5690e-05 - accuracy: 0.9430"
          ]
        },
        {
          "output_type": "error",
          "ename": "KeyboardInterrupt",
          "evalue": "ignored",
          "traceback": [
            "\u001b[0;31m---------------------------------------------------------------------------\u001b[0m",
            "\u001b[0;31mKeyboardInterrupt\u001b[0m                         Traceback (most recent call last)",
            "\u001b[0;32m<ipython-input-19-c481871ae78d>\u001b[0m in \u001b[0;36m<cell line: 1>\u001b[0;34m()\u001b[0m\n\u001b[0;32m----> 1\u001b[0;31m history = autoencoder.fit(x, x,\n\u001b[0m\u001b[1;32m      2\u001b[0m         \u001b[0mepochs\u001b[0m\u001b[0;34m=\u001b[0m\u001b[0;36m50\u001b[0m\u001b[0;34m,\u001b[0m\u001b[0;34m\u001b[0m\u001b[0;34m\u001b[0m\u001b[0m\n\u001b[1;32m      3\u001b[0m         \u001b[0mbatch_size\u001b[0m\u001b[0;34m=\u001b[0m\u001b[0;36m32\u001b[0m\u001b[0;34m,\u001b[0m\u001b[0;34m\u001b[0m\u001b[0;34m\u001b[0m\u001b[0m\n\u001b[1;32m      4\u001b[0m         \u001b[0mcallbacks\u001b[0m\u001b[0;34m=\u001b[0m\u001b[0mcallbacks_list\u001b[0m\u001b[0;34m,\u001b[0m\u001b[0;34m\u001b[0m\u001b[0;34m\u001b[0m\u001b[0m\n\u001b[1;32m      5\u001b[0m         \u001b[0mvalidation_data\u001b[0m\u001b[0;34m=\u001b[0m\u001b[0;34m(\u001b[0m\u001b[0mx_validation\u001b[0m\u001b[0;34m,\u001b[0m \u001b[0mx_validation\u001b[0m\u001b[0;34m)\u001b[0m\u001b[0;34m,\u001b[0m\u001b[0;34m\u001b[0m\u001b[0;34m\u001b[0m\u001b[0m\n",
            "\u001b[0;32m/usr/local/lib/python3.10/dist-packages/keras/utils/traceback_utils.py\u001b[0m in \u001b[0;36merror_handler\u001b[0;34m(*args, **kwargs)\u001b[0m\n\u001b[1;32m     63\u001b[0m         \u001b[0mfiltered_tb\u001b[0m \u001b[0;34m=\u001b[0m \u001b[0;32mNone\u001b[0m\u001b[0;34m\u001b[0m\u001b[0;34m\u001b[0m\u001b[0m\n\u001b[1;32m     64\u001b[0m         \u001b[0;32mtry\u001b[0m\u001b[0;34m:\u001b[0m\u001b[0;34m\u001b[0m\u001b[0;34m\u001b[0m\u001b[0m\n\u001b[0;32m---> 65\u001b[0;31m             \u001b[0;32mreturn\u001b[0m \u001b[0mfn\u001b[0m\u001b[0;34m(\u001b[0m\u001b[0;34m*\u001b[0m\u001b[0margs\u001b[0m\u001b[0;34m,\u001b[0m \u001b[0;34m**\u001b[0m\u001b[0mkwargs\u001b[0m\u001b[0;34m)\u001b[0m\u001b[0;34m\u001b[0m\u001b[0;34m\u001b[0m\u001b[0m\n\u001b[0m\u001b[1;32m     66\u001b[0m         \u001b[0;32mexcept\u001b[0m \u001b[0mException\u001b[0m \u001b[0;32mas\u001b[0m \u001b[0me\u001b[0m\u001b[0;34m:\u001b[0m\u001b[0;34m\u001b[0m\u001b[0;34m\u001b[0m\u001b[0m\n\u001b[1;32m     67\u001b[0m             \u001b[0mfiltered_tb\u001b[0m \u001b[0;34m=\u001b[0m \u001b[0m_process_traceback_frames\u001b[0m\u001b[0;34m(\u001b[0m\u001b[0me\u001b[0m\u001b[0;34m.\u001b[0m\u001b[0m__traceback__\u001b[0m\u001b[0;34m)\u001b[0m\u001b[0;34m\u001b[0m\u001b[0;34m\u001b[0m\u001b[0m\n",
            "\u001b[0;32m/usr/local/lib/python3.10/dist-packages/keras/engine/training.py\u001b[0m in \u001b[0;36mfit\u001b[0;34m(self, x, y, batch_size, epochs, verbose, callbacks, validation_split, validation_data, shuffle, class_weight, sample_weight, initial_epoch, steps_per_epoch, validation_steps, validation_batch_size, validation_freq, max_queue_size, workers, use_multiprocessing)\u001b[0m\n\u001b[1;32m   1683\u001b[0m                         ):\n\u001b[1;32m   1684\u001b[0m                             \u001b[0mcallbacks\u001b[0m\u001b[0;34m.\u001b[0m\u001b[0mon_train_batch_begin\u001b[0m\u001b[0;34m(\u001b[0m\u001b[0mstep\u001b[0m\u001b[0;34m)\u001b[0m\u001b[0;34m\u001b[0m\u001b[0;34m\u001b[0m\u001b[0m\n\u001b[0;32m-> 1685\u001b[0;31m                             \u001b[0mtmp_logs\u001b[0m \u001b[0;34m=\u001b[0m \u001b[0mself\u001b[0m\u001b[0;34m.\u001b[0m\u001b[0mtrain_function\u001b[0m\u001b[0;34m(\u001b[0m\u001b[0miterator\u001b[0m\u001b[0;34m)\u001b[0m\u001b[0;34m\u001b[0m\u001b[0;34m\u001b[0m\u001b[0m\n\u001b[0m\u001b[1;32m   1686\u001b[0m                             \u001b[0;32mif\u001b[0m \u001b[0mdata_handler\u001b[0m\u001b[0;34m.\u001b[0m\u001b[0mshould_sync\u001b[0m\u001b[0;34m:\u001b[0m\u001b[0;34m\u001b[0m\u001b[0;34m\u001b[0m\u001b[0m\n\u001b[1;32m   1687\u001b[0m                                 \u001b[0mcontext\u001b[0m\u001b[0;34m.\u001b[0m\u001b[0masync_wait\u001b[0m\u001b[0;34m(\u001b[0m\u001b[0;34m)\u001b[0m\u001b[0;34m\u001b[0m\u001b[0;34m\u001b[0m\u001b[0m\n",
            "\u001b[0;32m/usr/local/lib/python3.10/dist-packages/tensorflow/python/util/traceback_utils.py\u001b[0m in \u001b[0;36merror_handler\u001b[0;34m(*args, **kwargs)\u001b[0m\n\u001b[1;32m    148\u001b[0m     \u001b[0mfiltered_tb\u001b[0m \u001b[0;34m=\u001b[0m \u001b[0;32mNone\u001b[0m\u001b[0;34m\u001b[0m\u001b[0;34m\u001b[0m\u001b[0m\n\u001b[1;32m    149\u001b[0m     \u001b[0;32mtry\u001b[0m\u001b[0;34m:\u001b[0m\u001b[0;34m\u001b[0m\u001b[0;34m\u001b[0m\u001b[0m\n\u001b[0;32m--> 150\u001b[0;31m       \u001b[0;32mreturn\u001b[0m \u001b[0mfn\u001b[0m\u001b[0;34m(\u001b[0m\u001b[0;34m*\u001b[0m\u001b[0margs\u001b[0m\u001b[0;34m,\u001b[0m \u001b[0;34m**\u001b[0m\u001b[0mkwargs\u001b[0m\u001b[0;34m)\u001b[0m\u001b[0;34m\u001b[0m\u001b[0;34m\u001b[0m\u001b[0m\n\u001b[0m\u001b[1;32m    151\u001b[0m     \u001b[0;32mexcept\u001b[0m \u001b[0mException\u001b[0m \u001b[0;32mas\u001b[0m \u001b[0me\u001b[0m\u001b[0;34m:\u001b[0m\u001b[0;34m\u001b[0m\u001b[0;34m\u001b[0m\u001b[0m\n\u001b[1;32m    152\u001b[0m       \u001b[0mfiltered_tb\u001b[0m \u001b[0;34m=\u001b[0m \u001b[0m_process_traceback_frames\u001b[0m\u001b[0;34m(\u001b[0m\u001b[0me\u001b[0m\u001b[0;34m.\u001b[0m\u001b[0m__traceback__\u001b[0m\u001b[0;34m)\u001b[0m\u001b[0;34m\u001b[0m\u001b[0;34m\u001b[0m\u001b[0m\n",
            "\u001b[0;32m/usr/local/lib/python3.10/dist-packages/tensorflow/python/eager/polymorphic_function/polymorphic_function.py\u001b[0m in \u001b[0;36m__call__\u001b[0;34m(self, *args, **kwds)\u001b[0m\n\u001b[1;32m    892\u001b[0m \u001b[0;34m\u001b[0m\u001b[0m\n\u001b[1;32m    893\u001b[0m       \u001b[0;32mwith\u001b[0m \u001b[0mOptionalXlaContext\u001b[0m\u001b[0;34m(\u001b[0m\u001b[0mself\u001b[0m\u001b[0;34m.\u001b[0m\u001b[0m_jit_compile\u001b[0m\u001b[0;34m)\u001b[0m\u001b[0;34m:\u001b[0m\u001b[0;34m\u001b[0m\u001b[0;34m\u001b[0m\u001b[0m\n\u001b[0;32m--> 894\u001b[0;31m         \u001b[0mresult\u001b[0m \u001b[0;34m=\u001b[0m \u001b[0mself\u001b[0m\u001b[0;34m.\u001b[0m\u001b[0m_call\u001b[0m\u001b[0;34m(\u001b[0m\u001b[0;34m*\u001b[0m\u001b[0margs\u001b[0m\u001b[0;34m,\u001b[0m \u001b[0;34m**\u001b[0m\u001b[0mkwds\u001b[0m\u001b[0;34m)\u001b[0m\u001b[0;34m\u001b[0m\u001b[0;34m\u001b[0m\u001b[0m\n\u001b[0m\u001b[1;32m    895\u001b[0m \u001b[0;34m\u001b[0m\u001b[0m\n\u001b[1;32m    896\u001b[0m       \u001b[0mnew_tracing_count\u001b[0m \u001b[0;34m=\u001b[0m \u001b[0mself\u001b[0m\u001b[0;34m.\u001b[0m\u001b[0mexperimental_get_tracing_count\u001b[0m\u001b[0;34m(\u001b[0m\u001b[0;34m)\u001b[0m\u001b[0;34m\u001b[0m\u001b[0;34m\u001b[0m\u001b[0m\n",
            "\u001b[0;32m/usr/local/lib/python3.10/dist-packages/tensorflow/python/eager/polymorphic_function/polymorphic_function.py\u001b[0m in \u001b[0;36m_call\u001b[0;34m(self, *args, **kwds)\u001b[0m\n\u001b[1;32m    924\u001b[0m       \u001b[0;31m# In this case we have created variables on the first call, so we run the\u001b[0m\u001b[0;34m\u001b[0m\u001b[0;34m\u001b[0m\u001b[0m\n\u001b[1;32m    925\u001b[0m       \u001b[0;31m# defunned version which is guaranteed to never create variables.\u001b[0m\u001b[0;34m\u001b[0m\u001b[0;34m\u001b[0m\u001b[0m\n\u001b[0;32m--> 926\u001b[0;31m       \u001b[0;32mreturn\u001b[0m \u001b[0mself\u001b[0m\u001b[0;34m.\u001b[0m\u001b[0m_no_variable_creation_fn\u001b[0m\u001b[0;34m(\u001b[0m\u001b[0;34m*\u001b[0m\u001b[0margs\u001b[0m\u001b[0;34m,\u001b[0m \u001b[0;34m**\u001b[0m\u001b[0mkwds\u001b[0m\u001b[0;34m)\u001b[0m  \u001b[0;31m# pylint: disable=not-callable\u001b[0m\u001b[0;34m\u001b[0m\u001b[0;34m\u001b[0m\u001b[0m\n\u001b[0m\u001b[1;32m    927\u001b[0m     \u001b[0;32melif\u001b[0m \u001b[0mself\u001b[0m\u001b[0;34m.\u001b[0m\u001b[0m_variable_creation_fn\u001b[0m \u001b[0;32mis\u001b[0m \u001b[0;32mnot\u001b[0m \u001b[0;32mNone\u001b[0m\u001b[0;34m:\u001b[0m\u001b[0;34m\u001b[0m\u001b[0;34m\u001b[0m\u001b[0m\n\u001b[1;32m    928\u001b[0m       \u001b[0;31m# Release the lock early so that multiple threads can perform the call\u001b[0m\u001b[0;34m\u001b[0m\u001b[0;34m\u001b[0m\u001b[0m\n",
            "\u001b[0;32m/usr/local/lib/python3.10/dist-packages/tensorflow/python/eager/polymorphic_function/tracing_compiler.py\u001b[0m in \u001b[0;36m__call__\u001b[0;34m(self, *args, **kwargs)\u001b[0m\n\u001b[1;32m    141\u001b[0m       (concrete_function,\n\u001b[1;32m    142\u001b[0m        filtered_flat_args) = self._maybe_define_function(args, kwargs)\n\u001b[0;32m--> 143\u001b[0;31m     return concrete_function._call_flat(\n\u001b[0m\u001b[1;32m    144\u001b[0m         filtered_flat_args, captured_inputs=concrete_function.captured_inputs)  # pylint: disable=protected-access\n\u001b[1;32m    145\u001b[0m \u001b[0;34m\u001b[0m\u001b[0m\n",
            "\u001b[0;32m/usr/local/lib/python3.10/dist-packages/tensorflow/python/eager/polymorphic_function/monomorphic_function.py\u001b[0m in \u001b[0;36m_call_flat\u001b[0;34m(self, args, captured_inputs, cancellation_manager)\u001b[0m\n\u001b[1;32m   1755\u001b[0m         and executing_eagerly):\n\u001b[1;32m   1756\u001b[0m       \u001b[0;31m# No tape is watching; skip to running the function.\u001b[0m\u001b[0;34m\u001b[0m\u001b[0;34m\u001b[0m\u001b[0m\n\u001b[0;32m-> 1757\u001b[0;31m       return self._build_call_outputs(self._inference_function.call(\n\u001b[0m\u001b[1;32m   1758\u001b[0m           ctx, args, cancellation_manager=cancellation_manager))\n\u001b[1;32m   1759\u001b[0m     forward_backward = self._select_forward_and_backward_functions(\n",
            "\u001b[0;32m/usr/local/lib/python3.10/dist-packages/tensorflow/python/eager/polymorphic_function/monomorphic_function.py\u001b[0m in \u001b[0;36mcall\u001b[0;34m(self, ctx, args, cancellation_manager)\u001b[0m\n\u001b[1;32m    379\u001b[0m       \u001b[0;32mwith\u001b[0m \u001b[0m_InterpolateFunctionError\u001b[0m\u001b[0;34m(\u001b[0m\u001b[0mself\u001b[0m\u001b[0;34m)\u001b[0m\u001b[0;34m:\u001b[0m\u001b[0;34m\u001b[0m\u001b[0;34m\u001b[0m\u001b[0m\n\u001b[1;32m    380\u001b[0m         \u001b[0;32mif\u001b[0m \u001b[0mcancellation_manager\u001b[0m \u001b[0;32mis\u001b[0m \u001b[0;32mNone\u001b[0m\u001b[0;34m:\u001b[0m\u001b[0;34m\u001b[0m\u001b[0;34m\u001b[0m\u001b[0m\n\u001b[0;32m--> 381\u001b[0;31m           outputs = execute.execute(\n\u001b[0m\u001b[1;32m    382\u001b[0m               \u001b[0mstr\u001b[0m\u001b[0;34m(\u001b[0m\u001b[0mself\u001b[0m\u001b[0;34m.\u001b[0m\u001b[0msignature\u001b[0m\u001b[0;34m.\u001b[0m\u001b[0mname\u001b[0m\u001b[0;34m)\u001b[0m\u001b[0;34m,\u001b[0m\u001b[0;34m\u001b[0m\u001b[0;34m\u001b[0m\u001b[0m\n\u001b[1;32m    383\u001b[0m               \u001b[0mnum_outputs\u001b[0m\u001b[0;34m=\u001b[0m\u001b[0mself\u001b[0m\u001b[0;34m.\u001b[0m\u001b[0m_num_outputs\u001b[0m\u001b[0;34m,\u001b[0m\u001b[0;34m\u001b[0m\u001b[0;34m\u001b[0m\u001b[0m\n",
            "\u001b[0;32m/usr/local/lib/python3.10/dist-packages/tensorflow/python/eager/execute.py\u001b[0m in \u001b[0;36mquick_execute\u001b[0;34m(op_name, num_outputs, inputs, attrs, ctx, name)\u001b[0m\n\u001b[1;32m     50\u001b[0m   \u001b[0;32mtry\u001b[0m\u001b[0;34m:\u001b[0m\u001b[0;34m\u001b[0m\u001b[0;34m\u001b[0m\u001b[0m\n\u001b[1;32m     51\u001b[0m     \u001b[0mctx\u001b[0m\u001b[0;34m.\u001b[0m\u001b[0mensure_initialized\u001b[0m\u001b[0;34m(\u001b[0m\u001b[0;34m)\u001b[0m\u001b[0;34m\u001b[0m\u001b[0;34m\u001b[0m\u001b[0m\n\u001b[0;32m---> 52\u001b[0;31m     tensors = pywrap_tfe.TFE_Py_Execute(ctx._handle, device_name, op_name,\n\u001b[0m\u001b[1;32m     53\u001b[0m                                         inputs, attrs, num_outputs)\n\u001b[1;32m     54\u001b[0m   \u001b[0;32mexcept\u001b[0m \u001b[0mcore\u001b[0m\u001b[0;34m.\u001b[0m\u001b[0m_NotOkStatusException\u001b[0m \u001b[0;32mas\u001b[0m \u001b[0me\u001b[0m\u001b[0;34m:\u001b[0m\u001b[0;34m\u001b[0m\u001b[0;34m\u001b[0m\u001b[0m\n",
            "\u001b[0;31mKeyboardInterrupt\u001b[0m: "
          ]
        }
      ]
    },
    {
      "cell_type": "code",
      "source": [
        "import pandas as pd\n",
        "from numpy import vstack\n",
        "\n",
        "# Combined x and x_test.\n",
        "\n",
        "predictions = autoencoder.predict(data)\n",
        "\n",
        "# Calculated MSE.\n",
        "mse = np.mean(np.power(data - predictions, 2), axis=1)\n",
        "error_df = pd.DataFrame({'reconstruction_error': mse})\n",
        "\n",
        "# Set threshold at the 99th quartile.\n",
        "threshold = error_df.quantile(0.999)\n",
        "\n",
        "error_df.describe()"
      ],
      "metadata": {
        "id": "WweNR3FgAH2j"
      },
      "execution_count": null,
      "outputs": []
    },
    {
      "cell_type": "code",
      "source": [
        "\n",
        "%matplotlib inline\n",
        "import matplotlib.pyplot as plt"
      ],
      "metadata": {
        "id": "-huTlZGbAvvu"
      },
      "execution_count": null,
      "outputs": []
    },
    {
      "cell_type": "code",
      "source": [
        "fig, ax = plt.subplots()\n",
        "ax.plot(error_df.index, error_df.reconstruction_error, marker='o', ms=3.5, linestyle='')\n",
        "ax.hlines(threshold, ax.get_xlim()[0], ax.get_xlim()[1], colors=\"r\", zorder=100, label='threshold')\n",
        "ax.legend(loc=5)\n",
        "plt.title(\"Reconstruction error\")\n",
        "plt.ylabel(\"Reconstruction error\")\n",
        "plt.xlabel(\"Data point index\")\n",
        "plt.show();"
      ],
      "metadata": {
        "id": "IPjRlO1dAVAH"
      },
      "execution_count": null,
      "outputs": []
    },
    {
      "cell_type": "code",
      "source": [
        "index_list = []\n",
        "for index, row in error_df.iterrows():\n",
        "    if row.reconstruction_error > np.float(threshold):\n",
        "        index_list.append(index)\n"
      ],
      "metadata": {
        "id": "1iVSnyMvCWlI"
      },
      "execution_count": null,
      "outputs": []
    },
    {
      "cell_type": "code",
      "source": [
        "len(index_list)"
      ],
      "metadata": {
        "id": "5y-WpF_rDGk2"
      },
      "execution_count": null,
      "outputs": []
    },
    {
      "cell_type": "code",
      "source": [
        "anomaly = []\n",
        "for index_val in index_list:\n",
        "  anomaly.append(df.iloc[index_val])"
      ],
      "metadata": {
        "id": "aPqiPe8gDKTR"
      },
      "execution_count": null,
      "outputs": []
    },
    {
      "cell_type": "code",
      "source": [
        "anomaly"
      ],
      "metadata": {
        "id": "LIv0iG6jEEb1"
      },
      "execution_count": null,
      "outputs": []
    }
  ]
}